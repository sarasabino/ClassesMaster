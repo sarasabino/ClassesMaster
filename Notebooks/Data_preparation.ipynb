{
  "nbformat": 4,
  "nbformat_minor": 0,
  "metadata": {
    "colab": {
      "name": "Data_preparation.ipynb",
      "provenance": [],
      "mount_file_id": "1Qs9pNnk5hg8EDUl7Oi4Ra6wR2z7015_y",
      "authorship_tag": "ABX9TyMEryoygCXh6Q/692gY46Hn"
    },
    "kernelspec": {
      "name": "python3",
      "display_name": "Python 3"
    },
    "language_info": {
      "name": "python"
    }
  },
  "cells": [
    {
      "cell_type": "markdown",
      "metadata": {
        "id": "aBmij-IyImPZ"
      },
      "source": [
        "## Data Preparation\n",
        "\n",
        "This is the first step of the project, to upload and merge all the differet files into a sigle DB that we are going to use in all the stages of the project.\n",
        "\n",
        "\n",
        "This data is given by my company at the moment so it is confidential and it is anonimzed for this project. There are two files given for each instance we have at the company. \n",
        "\n",
        "- File 1:  contains all the table names and the project they belong to\n",
        "- File 2: contains all the header on each table.\n",
        "\n",
        "We are going to generate two tables one for the project and another for the headers on the tables. All data is connected by the table IDs so we are going to relate both tables easy."
      ]
    },
    {
      "cell_type": "markdown",
      "metadata": {
        "id": "TOBEQTohKKIy"
      },
      "source": [
        "The first problem I face opening this file is that it has multi separators as delimiter in the csv, so I had to search for a way that allows to open it correctly\n",
        "\n",
        "This file contains the name of the tables in each app oid and Group_oid. The app oid represents the instance of the tables and the group oid the project that it belongs to. There are some tables that can not belong to any project so at first we are not going to take account of them"
      ]
    },
    {
      "cell_type": "code",
      "metadata": {
        "id": "5To9KdAiGyJx"
      },
      "source": [
        "! cp /content/drive/MyDrive/'Colab Notebooks'/TFM/Data/lista-colecciones-tele.csv ."
      ],
      "execution_count": 18,
      "outputs": []
    },
    {
      "cell_type": "code",
      "metadata": {
        "id": "Q1q3SXzlPFau"
      },
      "source": [
        "! cp /content/drive/MyDrive/'Colab Notebooks'/TFM/Data/lista-campos-colecciones-tele.csv ."
      ],
      "execution_count": 34,
      "outputs": []
    },
    {
      "cell_type": "code",
      "metadata": {
        "id": "eoB6aGhOKeZS"
      },
      "source": [
        "import pandas as pd\n"
      ],
      "execution_count": 15,
      "outputs": []
    },
    {
      "cell_type": "code",
      "metadata": {
        "id": "0Jnn81HPKeao"
      },
      "source": [
        "import re\n",
        "\n",
        "df = pd.DataFrame()\n",
        "with open('lista-colecciones-tele.csv') as fobj:\n",
        "    for line in fobj:\n",
        "        line_data = re.split(',|,,', line)\n",
        "        \n",
        "        df = df.append([line_data])"
      ],
      "execution_count": 19,
      "outputs": []
    },
    {
      "cell_type": "code",
      "metadata": {
        "colab": {
          "base_uri": "https://localhost:8080/",
          "height": 218
        },
        "id": "5KAEa0j2Keb-",
        "outputId": "ed489610-e8be-4d56-eb11-a96e96820459"
      },
      "source": [
        "df.head()"
      ],
      "execution_count": 30,
      "outputs": [
        {
          "output_type": "execute_result",
          "data": {
            "text/html": [
              "<div>\n",
              "<style scoped>\n",
              "    .dataframe tbody tr th:only-of-type {\n",
              "        vertical-align: middle;\n",
              "    }\n",
              "\n",
              "    .dataframe tbody tr th {\n",
              "        vertical-align: top;\n",
              "    }\n",
              "\n",
              "    .dataframe thead th {\n",
              "        text-align: right;\n",
              "    }\n",
              "</style>\n",
              "<table border=\"1\" class=\"dataframe\">\n",
              "  <thead>\n",
              "    <tr style=\"text-align: right;\">\n",
              "      <th></th>\n",
              "      <th>App_oid</th>\n",
              "      <th>Collection_oid</th>\n",
              "      <th>Name</th>\n",
              "      <th>Description</th>\n",
              "      <th>Table</th>\n",
              "      <th>Group_oid</th>\n",
              "      <th>Translations_collection_oid</th>\n",
              "      <th>Is_translations_collection;;\\n</th>\n",
              "      <th>NaN</th>\n",
              "      <th>NaN</th>\n",
              "      <th>NaN</th>\n",
              "      <th>NaN</th>\n",
              "      <th>NaN</th>\n",
              "      <th>NaN</th>\n",
              "      <th>NaN</th>\n",
              "    </tr>\n",
              "  </thead>\n",
              "  <tbody>\n",
              "    <tr>\n",
              "      <th>0</th>\n",
              "      <td>103721</td>\n",
              "      <td>296719</td>\n",
              "      <td>Test</td>\n",
              "      <td></td>\n",
              "      <td>TELEFONICAMEDIOS_TEST_296719</td>\n",
              "      <td>NULL</td>\n",
              "      <td>NULL</td>\n",
              "      <td>0;;\\n</td>\n",
              "      <td>NaN</td>\n",
              "      <td>NaN</td>\n",
              "      <td>NaN</td>\n",
              "      <td>NaN</td>\n",
              "      <td>NaN</td>\n",
              "      <td>NaN</td>\n",
              "      <td>NaN</td>\n",
              "    </tr>\n",
              "    <tr>\n",
              "      <th>0</th>\n",
              "      <td>103721</td>\n",
              "      <td>299143</td>\n",
              "      <td>test_script</td>\n",
              "      <td></td>\n",
              "      <td>TELEFONICAMEDIOS_TEST_SCRIPT_299143</td>\n",
              "      <td>NULL</td>\n",
              "      <td>NULL</td>\n",
              "      <td>0;;\\n</td>\n",
              "      <td>NaN</td>\n",
              "      <td>NaN</td>\n",
              "      <td>NaN</td>\n",
              "      <td>NaN</td>\n",
              "      <td>NaN</td>\n",
              "      <td>NaN</td>\n",
              "      <td>NaN</td>\n",
              "    </tr>\n",
              "    <tr>\n",
              "      <th>0</th>\n",
              "      <td>120326</td>\n",
              "      <td>300168</td>\n",
              "      <td>TELEFONICASYGRIS_AUTO_LOG_TRIGGERS_MAILING__SE...</td>\n",
              "      <td>300167</td>\n",
              "      <td>NULL</td>\n",
              "      <td>0;;\\n</td>\n",
              "      <td>NaN</td>\n",
              "      <td>NaN</td>\n",
              "      <td>NaN</td>\n",
              "      <td>NaN</td>\n",
              "      <td>NaN</td>\n",
              "      <td>NaN</td>\n",
              "      <td>NaN</td>\n",
              "      <td>NaN</td>\n",
              "      <td>NaN</td>\n",
              "    </tr>\n",
              "    <tr>\n",
              "      <th>0</th>\n",
              "      <td>120326</td>\n",
              "      <td>300169</td>\n",
              "      <td>TELEFONICASYGRIS_AUTO_LOG_TRIGGERS_MAILING__US...</td>\n",
              "      <td>300167</td>\n",
              "      <td>NULL</td>\n",
              "      <td>0;;\\n</td>\n",
              "      <td>NaN</td>\n",
              "      <td>NaN</td>\n",
              "      <td>NaN</td>\n",
              "      <td>NaN</td>\n",
              "      <td>NaN</td>\n",
              "      <td>NaN</td>\n",
              "      <td>NaN</td>\n",
              "      <td>NaN</td>\n",
              "      <td>NaN</td>\n",
              "    </tr>\n",
              "    <tr>\n",
              "      <th>0</th>\n",
              "      <td>120326</td>\n",
              "      <td>300170</td>\n",
              "      <td>TELEFONICASYGRIS_AUTO_LOG_TRIGGERS_MAILING__DA...</td>\n",
              "      <td>300167</td>\n",
              "      <td>NULL</td>\n",
              "      <td>0;;\\n</td>\n",
              "      <td>NaN</td>\n",
              "      <td>NaN</td>\n",
              "      <td>NaN</td>\n",
              "      <td>NaN</td>\n",
              "      <td>NaN</td>\n",
              "      <td>NaN</td>\n",
              "      <td>NaN</td>\n",
              "      <td>NaN</td>\n",
              "      <td>NaN</td>\n",
              "    </tr>\n",
              "  </tbody>\n",
              "</table>\n",
              "</div>"
            ],
            "text/plain": [
              "0 App_oid Collection_oid  ...  NaN  NaN\n",
              "0  103721         296719  ...  NaN  NaN\n",
              "0  103721         299143  ...  NaN  NaN\n",
              "0  120326         300168  ...  NaN  NaN\n",
              "0  120326         300169  ...  NaN  NaN\n",
              "0  120326         300170  ...  NaN  NaN\n",
              "\n",
              "[5 rows x 15 columns]"
            ]
          },
          "metadata": {
            "tags": []
          },
          "execution_count": 30
        }
      ]
    },
    {
      "cell_type": "code",
      "metadata": {
        "id": "5LxvtkShNxJh"
      },
      "source": [
        "#set first row in the dataframe as header\n",
        "\n",
        "header = df.iloc[0]\n",
        "\n",
        "df = df.iloc[1:]\n",
        "\n",
        "df.columns = header\n"
      ],
      "execution_count": 26,
      "outputs": []
    },
    {
      "cell_type": "code",
      "metadata": {
        "colab": {
          "base_uri": "https://localhost:8080/",
          "height": 218
        },
        "id": "IOpmTuQWN_pg",
        "outputId": "f1f81122-9a73-4f2d-c922-ce0e76b16db6"
      },
      "source": [
        "df.head()"
      ],
      "execution_count": 29,
      "outputs": [
        {
          "output_type": "execute_result",
          "data": {
            "text/html": [
              "<div>\n",
              "<style scoped>\n",
              "    .dataframe tbody tr th:only-of-type {\n",
              "        vertical-align: middle;\n",
              "    }\n",
              "\n",
              "    .dataframe tbody tr th {\n",
              "        vertical-align: top;\n",
              "    }\n",
              "\n",
              "    .dataframe thead th {\n",
              "        text-align: right;\n",
              "    }\n",
              "</style>\n",
              "<table border=\"1\" class=\"dataframe\">\n",
              "  <thead>\n",
              "    <tr style=\"text-align: right;\">\n",
              "      <th></th>\n",
              "      <th>App_oid</th>\n",
              "      <th>Collection_oid</th>\n",
              "      <th>Name</th>\n",
              "      <th>Description</th>\n",
              "      <th>Table</th>\n",
              "      <th>Group_oid</th>\n",
              "      <th>Translations_collection_oid</th>\n",
              "      <th>Is_translations_collection;;\\n</th>\n",
              "      <th>NaN</th>\n",
              "      <th>NaN</th>\n",
              "      <th>NaN</th>\n",
              "      <th>NaN</th>\n",
              "      <th>NaN</th>\n",
              "      <th>NaN</th>\n",
              "      <th>NaN</th>\n",
              "    </tr>\n",
              "  </thead>\n",
              "  <tbody>\n",
              "    <tr>\n",
              "      <th>0</th>\n",
              "      <td>103721</td>\n",
              "      <td>296719</td>\n",
              "      <td>Test</td>\n",
              "      <td></td>\n",
              "      <td>TELEFONICAMEDIOS_TEST_296719</td>\n",
              "      <td>NULL</td>\n",
              "      <td>NULL</td>\n",
              "      <td>0;;\\n</td>\n",
              "      <td>NaN</td>\n",
              "      <td>NaN</td>\n",
              "      <td>NaN</td>\n",
              "      <td>NaN</td>\n",
              "      <td>NaN</td>\n",
              "      <td>NaN</td>\n",
              "      <td>NaN</td>\n",
              "    </tr>\n",
              "    <tr>\n",
              "      <th>0</th>\n",
              "      <td>103721</td>\n",
              "      <td>299143</td>\n",
              "      <td>test_script</td>\n",
              "      <td></td>\n",
              "      <td>TELEFONICAMEDIOS_TEST_SCRIPT_299143</td>\n",
              "      <td>NULL</td>\n",
              "      <td>NULL</td>\n",
              "      <td>0;;\\n</td>\n",
              "      <td>NaN</td>\n",
              "      <td>NaN</td>\n",
              "      <td>NaN</td>\n",
              "      <td>NaN</td>\n",
              "      <td>NaN</td>\n",
              "      <td>NaN</td>\n",
              "      <td>NaN</td>\n",
              "    </tr>\n",
              "    <tr>\n",
              "      <th>0</th>\n",
              "      <td>120326</td>\n",
              "      <td>300168</td>\n",
              "      <td>TELEFONICASYGRIS_AUTO_LOG_TRIGGERS_MAILING__SE...</td>\n",
              "      <td>300167</td>\n",
              "      <td>NULL</td>\n",
              "      <td>0;;\\n</td>\n",
              "      <td>NaN</td>\n",
              "      <td>NaN</td>\n",
              "      <td>NaN</td>\n",
              "      <td>NaN</td>\n",
              "      <td>NaN</td>\n",
              "      <td>NaN</td>\n",
              "      <td>NaN</td>\n",
              "      <td>NaN</td>\n",
              "      <td>NaN</td>\n",
              "    </tr>\n",
              "    <tr>\n",
              "      <th>0</th>\n",
              "      <td>120326</td>\n",
              "      <td>300169</td>\n",
              "      <td>TELEFONICASYGRIS_AUTO_LOG_TRIGGERS_MAILING__US...</td>\n",
              "      <td>300167</td>\n",
              "      <td>NULL</td>\n",
              "      <td>0;;\\n</td>\n",
              "      <td>NaN</td>\n",
              "      <td>NaN</td>\n",
              "      <td>NaN</td>\n",
              "      <td>NaN</td>\n",
              "      <td>NaN</td>\n",
              "      <td>NaN</td>\n",
              "      <td>NaN</td>\n",
              "      <td>NaN</td>\n",
              "      <td>NaN</td>\n",
              "    </tr>\n",
              "    <tr>\n",
              "      <th>0</th>\n",
              "      <td>120326</td>\n",
              "      <td>300170</td>\n",
              "      <td>TELEFONICASYGRIS_AUTO_LOG_TRIGGERS_MAILING__DA...</td>\n",
              "      <td>300167</td>\n",
              "      <td>NULL</td>\n",
              "      <td>0;;\\n</td>\n",
              "      <td>NaN</td>\n",
              "      <td>NaN</td>\n",
              "      <td>NaN</td>\n",
              "      <td>NaN</td>\n",
              "      <td>NaN</td>\n",
              "      <td>NaN</td>\n",
              "      <td>NaN</td>\n",
              "      <td>NaN</td>\n",
              "      <td>NaN</td>\n",
              "    </tr>\n",
              "  </tbody>\n",
              "</table>\n",
              "</div>"
            ],
            "text/plain": [
              "0 App_oid Collection_oid  ...  NaN  NaN\n",
              "0  103721         296719  ...  NaN  NaN\n",
              "0  103721         299143  ...  NaN  NaN\n",
              "0  120326         300168  ...  NaN  NaN\n",
              "0  120326         300169  ...  NaN  NaN\n",
              "0  120326         300170  ...  NaN  NaN\n",
              "\n",
              "[5 rows x 15 columns]"
            ]
          },
          "metadata": {
            "tags": []
          },
          "execution_count": 29
        }
      ]
    },
    {
      "cell_type": "code",
      "metadata": {
        "colab": {
          "base_uri": "https://localhost:8080/",
          "height": 198
        },
        "id": "89vOFbAIQXA4",
        "outputId": "4801dc29-9420-4cf5-f40a-5185c80499cc"
      },
      "source": [
        "# we create a new shorted dataframe \n",
        "\n",
        "columns = ['App_oid', 'Collection_oid', 'Name', 'Group_oid', 'Table']\n",
        "\n",
        "df_shorted = df[columns]\n",
        "\n",
        "df_shorted.head()"
      ],
      "execution_count": 44,
      "outputs": [
        {
          "output_type": "execute_result",
          "data": {
            "text/html": [
              "<div>\n",
              "<style scoped>\n",
              "    .dataframe tbody tr th:only-of-type {\n",
              "        vertical-align: middle;\n",
              "    }\n",
              "\n",
              "    .dataframe tbody tr th {\n",
              "        vertical-align: top;\n",
              "    }\n",
              "\n",
              "    .dataframe thead th {\n",
              "        text-align: right;\n",
              "    }\n",
              "</style>\n",
              "<table border=\"1\" class=\"dataframe\">\n",
              "  <thead>\n",
              "    <tr style=\"text-align: right;\">\n",
              "      <th></th>\n",
              "      <th>App_oid</th>\n",
              "      <th>Collection_oid</th>\n",
              "      <th>Name</th>\n",
              "      <th>Group_oid</th>\n",
              "      <th>Table</th>\n",
              "    </tr>\n",
              "  </thead>\n",
              "  <tbody>\n",
              "    <tr>\n",
              "      <th>0</th>\n",
              "      <td>103721</td>\n",
              "      <td>296719</td>\n",
              "      <td>Test</td>\n",
              "      <td>NULL</td>\n",
              "      <td>TELEFONICAMEDIOS_TEST_296719</td>\n",
              "    </tr>\n",
              "    <tr>\n",
              "      <th>0</th>\n",
              "      <td>103721</td>\n",
              "      <td>299143</td>\n",
              "      <td>test_script</td>\n",
              "      <td>NULL</td>\n",
              "      <td>TELEFONICAMEDIOS_TEST_SCRIPT_299143</td>\n",
              "    </tr>\n",
              "    <tr>\n",
              "      <th>0</th>\n",
              "      <td>120326</td>\n",
              "      <td>300168</td>\n",
              "      <td>TELEFONICASYGRIS_AUTO_LOG_TRIGGERS_MAILING__SE...</td>\n",
              "      <td>0;;\\n</td>\n",
              "      <td>NULL</td>\n",
              "    </tr>\n",
              "    <tr>\n",
              "      <th>0</th>\n",
              "      <td>120326</td>\n",
              "      <td>300169</td>\n",
              "      <td>TELEFONICASYGRIS_AUTO_LOG_TRIGGERS_MAILING__US...</td>\n",
              "      <td>0;;\\n</td>\n",
              "      <td>NULL</td>\n",
              "    </tr>\n",
              "    <tr>\n",
              "      <th>0</th>\n",
              "      <td>120326</td>\n",
              "      <td>300170</td>\n",
              "      <td>TELEFONICASYGRIS_AUTO_LOG_TRIGGERS_MAILING__DA...</td>\n",
              "      <td>0;;\\n</td>\n",
              "      <td>NULL</td>\n",
              "    </tr>\n",
              "  </tbody>\n",
              "</table>\n",
              "</div>"
            ],
            "text/plain": [
              "0 App_oid Collection_oid  ... Group_oid                                Table\n",
              "0  103721         296719  ...      NULL         TELEFONICAMEDIOS_TEST_296719\n",
              "0  103721         299143  ...      NULL  TELEFONICAMEDIOS_TEST_SCRIPT_299143\n",
              "0  120326         300168  ...     0;;\\n                                 NULL\n",
              "0  120326         300169  ...     0;;\\n                                 NULL\n",
              "0  120326         300170  ...     0;;\\n                                 NULL\n",
              "\n",
              "[5 rows x 5 columns]"
            ]
          },
          "metadata": {
            "tags": []
          },
          "execution_count": 44
        }
      ]
    },
    {
      "cell_type": "code",
      "metadata": {
        "colab": {
          "base_uri": "https://localhost:8080/"
        },
        "id": "XiR2zxqwNPiG",
        "outputId": "48943070-aa3f-49b3-f20f-bece175f197a"
      },
      "source": [
        "#we are going to check if we have null values and if yes, how many\n",
        "\n",
        "df_shorted['Name'].isnull().sum()\n",
        "\n",
        "#we dont have any null in table name"
      ],
      "execution_count": 45,
      "outputs": [
        {
          "output_type": "execute_result",
          "data": {
            "text/plain": [
              "0"
            ]
          },
          "metadata": {
            "tags": []
          },
          "execution_count": 45
        }
      ]
    },
    {
      "cell_type": "code",
      "metadata": {
        "colab": {
          "base_uri": "https://localhost:8080/"
        },
        "id": "MTiQE3x-N6tV",
        "outputId": "db38c62e-fe54-4090-eeb7-d77063897dd1"
      },
      "source": [
        "#we search for nulls in app_oid\n",
        "df_shorted['App_oid'].isnull().sum()"
      ],
      "execution_count": 46,
      "outputs": [
        {
          "output_type": "execute_result",
          "data": {
            "text/plain": [
              "0"
            ]
          },
          "metadata": {
            "tags": []
          },
          "execution_count": 46
        }
      ]
    },
    {
      "cell_type": "code",
      "metadata": {
        "colab": {
          "base_uri": "https://localhost:8080/"
        },
        "id": "wkXzhqvwQsL-",
        "outputId": "6fb9a1aa-afd2-4380-9b11-4a3619864148"
      },
      "source": [
        "#we get the only values in the group_oid column in order to explore it\n",
        "\n",
        "df_shorted.Group_oid.unique()\n"
      ],
      "execution_count": 50,
      "outputs": [
        {
          "output_type": "execute_result",
          "data": {
            "text/plain": [
              "array(['NULL', '0;;\\n', '299498', '286951', '285781', '280190', '273761',\n",
              "       '255990', '252502',\n",
              "       'TELEFONICASYGRIS_D_ALIADOS_FORMULAS_SYS_298548',\n",
              "       'TELEFONICASYGRIS_D_ALIADOS_INDICADORES_252508',\n",
              "       'TELEFONICASYGRIS_D_ALIADOS_HISTORICO_AUDITORIAS_255646',\n",
              "       ' países y períodos (Q2 y Q4)\"\"', '241617', '241499', '232634',\n",
              "       '221510', 'TELEFONICASYGRIS_ROLES_AUDITORIAS_228873',\n",
              "       'TELEFONICASYGRIS_USUARIOS_AUDITORIAS_228874', ' producción',\n",
              "       'TELEFONICASYGRIS_AUDITORIA_202307', ' entregado)\"\"', ' N/A)\"\"',\n",
              "       'TELEFONICASYGRIS_AUXILIAR_PARA_TRIGGERS_DE_AUDIT_233461',\n",
              "       '204966', '202886',\n",
              "       ' tiendas o cualquier otro canal. Se incluyen tambien promociones temporales',\n",
              "       ' descripción y url pública que confirma la existencia de esos canales.\"\"',\n",
              "       ' tipo', '202563', '200930', '200673',\n",
              "       'TELEFONICASYGRIS_ANALISIS_DE_RIESGOS_FINAL_249115',\n",
              "       'TELEFONICASYGRIS_LISTADO_PROVEEDORES_202306',\n",
              "       'TELEFONICASYGRIS_EMPRESAS_JURIDICAS_PARA_ANALISI_303586',\n",
              "       'TELEFONICASYGRIS_R_ENE_SEMESTRE_DE_ESTUDIO_297994', '199295',\n",
              "       '187602', '187601', '187562', '187187', '187180', '-1',\n",
              "       'TELEFONICASYGRIS_PRINCIPALES_SERVICIOS_ADJUDICAD_204295',\n",
              "       '304776', '301477', '296040', '293483', '291920', '280509',\n",
              "       '274958', '274233', '273960', '273959'], dtype=object)"
            ]
          },
          "metadata": {
            "tags": []
          },
          "execution_count": 50
        }
      ]
    },
    {
      "cell_type": "code",
      "metadata": {
        "id": "C89c8Et5RGw1"
      },
      "source": [
        "# Group oid column should contain IDs not text values so there's something that it is not correct in those values with text we should review these in order to be able to use full values on this table"
      ],
      "execution_count": null,
      "outputs": []
    },
    {
      "cell_type": "code",
      "metadata": {
        "colab": {
          "base_uri": "https://localhost:8080/"
        },
        "id": "AvVfvKGYPgtd",
        "outputId": "0414e0c0-68d2-4e0b-f7fe-feb1b62430e1"
      },
      "source": [
        "len(df) #lenght of our dataframe"
      ],
      "execution_count": 38,
      "outputs": [
        {
          "output_type": "execute_result",
          "data": {
            "text/plain": [
              "614"
            ]
          },
          "metadata": {
            "tags": []
          },
          "execution_count": 38
        }
      ]
    },
    {
      "cell_type": "markdown",
      "metadata": {
        "id": "1cG4q3DvQ3zL"
      },
      "source": [
        "## tables field dataframe"
      ]
    },
    {
      "cell_type": "code",
      "metadata": {
        "id": "WGG4JZuHN9eA"
      },
      "source": [
        "df_campos = pd.DataFrame()\n",
        "with open('lista-campos-colecciones-tele.csv') as fobj:\n",
        "    for line in fobj:\n",
        "        line_data = re.split(',|,,', line)\n",
        "        \n",
        "        df_campos = df_campos.append([line_data])"
      ],
      "execution_count": 37,
      "outputs": []
    },
    {
      "cell_type": "code",
      "metadata": {
        "colab": {
          "base_uri": "https://localhost:8080/",
          "height": 198
        },
        "id": "Uwn6C-u5PjUY",
        "outputId": "b2665290-a5cd-4509-e5b4-484995adfe75"
      },
      "source": [
        "df_campos.head()"
      ],
      "execution_count": 39,
      "outputs": [
        {
          "output_type": "execute_result",
          "data": {
            "text/html": [
              "<div>\n",
              "<style scoped>\n",
              "    .dataframe tbody tr th:only-of-type {\n",
              "        vertical-align: middle;\n",
              "    }\n",
              "\n",
              "    .dataframe tbody tr th {\n",
              "        vertical-align: top;\n",
              "    }\n",
              "\n",
              "    .dataframe thead th {\n",
              "        text-align: right;\n",
              "    }\n",
              "</style>\n",
              "<table border=\"1\" class=\"dataframe\">\n",
              "  <thead>\n",
              "    <tr style=\"text-align: right;\">\n",
              "      <th></th>\n",
              "      <th>0</th>\n",
              "      <th>1</th>\n",
              "      <th>2</th>\n",
              "      <th>3</th>\n",
              "      <th>4</th>\n",
              "      <th>5</th>\n",
              "      <th>6</th>\n",
              "      <th>7</th>\n",
              "      <th>8</th>\n",
              "      <th>9</th>\n",
              "      <th>10</th>\n",
              "      <th>11</th>\n",
              "      <th>12</th>\n",
              "      <th>13</th>\n",
              "      <th>14</th>\n",
              "      <th>15</th>\n",
              "      <th>16</th>\n",
              "      <th>17</th>\n",
              "      <th>18</th>\n",
              "      <th>19</th>\n",
              "      <th>20</th>\n",
              "      <th>21</th>\n",
              "    </tr>\n",
              "  </thead>\n",
              "  <tbody>\n",
              "    <tr>\n",
              "      <th>0</th>\n",
              "      <td>App_oid</td>\n",
              "      <td>Collection_oid</td>\n",
              "      <td>Field_id</td>\n",
              "      <td>Name</td>\n",
              "      <td>Datatype_id</td>\n",
              "      <td>Description</td>\n",
              "      <td>Required</td>\n",
              "      <td>Calculated</td>\n",
              "      <td>Formula</td>\n",
              "      <td>Translatable\\n</td>\n",
              "      <td>NaN</td>\n",
              "      <td>NaN</td>\n",
              "      <td>NaN</td>\n",
              "      <td>NaN</td>\n",
              "      <td>NaN</td>\n",
              "      <td>NaN</td>\n",
              "      <td>NaN</td>\n",
              "      <td>NaN</td>\n",
              "      <td>NaN</td>\n",
              "      <td>NaN</td>\n",
              "      <td>NaN</td>\n",
              "      <td>NaN</td>\n",
              "    </tr>\n",
              "    <tr>\n",
              "      <th>0</th>\n",
              "      <td>0</td>\n",
              "      <td>278023</td>\n",
              "      <td>21803</td>\n",
              "      <td>OB_</td>\n",
              "      <td>1</td>\n",
              "      <td></td>\n",
              "      <td>0</td>\n",
              "      <td>0</td>\n",
              "      <td></td>\n",
              "      <td>0\\n</td>\n",
              "      <td>NaN</td>\n",
              "      <td>NaN</td>\n",
              "      <td>NaN</td>\n",
              "      <td>NaN</td>\n",
              "      <td>NaN</td>\n",
              "      <td>NaN</td>\n",
              "      <td>NaN</td>\n",
              "      <td>NaN</td>\n",
              "      <td>NaN</td>\n",
              "      <td>NaN</td>\n",
              "      <td>NaN</td>\n",
              "      <td>NaN</td>\n",
              "    </tr>\n",
              "    <tr>\n",
              "      <th>0</th>\n",
              "      <td>0</td>\n",
              "      <td>278023</td>\n",
              "      <td>21804</td>\n",
              "      <td>Region</td>\n",
              "      <td>1</td>\n",
              "      <td></td>\n",
              "      <td>0</td>\n",
              "      <td>0</td>\n",
              "      <td></td>\n",
              "      <td>0\\n</td>\n",
              "      <td>NaN</td>\n",
              "      <td>NaN</td>\n",
              "      <td>NaN</td>\n",
              "      <td>NaN</td>\n",
              "      <td>NaN</td>\n",
              "      <td>NaN</td>\n",
              "      <td>NaN</td>\n",
              "      <td>NaN</td>\n",
              "      <td>NaN</td>\n",
              "      <td>NaN</td>\n",
              "      <td>NaN</td>\n",
              "      <td>NaN</td>\n",
              "    </tr>\n",
              "    <tr>\n",
              "      <th>0</th>\n",
              "      <td>0</td>\n",
              "      <td>278024</td>\n",
              "      <td>21805</td>\n",
              "      <td>OB_</td>\n",
              "      <td>1</td>\n",
              "      <td></td>\n",
              "      <td>0</td>\n",
              "      <td>0</td>\n",
              "      <td></td>\n",
              "      <td>0\\n</td>\n",
              "      <td>NaN</td>\n",
              "      <td>NaN</td>\n",
              "      <td>NaN</td>\n",
              "      <td>NaN</td>\n",
              "      <td>NaN</td>\n",
              "      <td>NaN</td>\n",
              "      <td>NaN</td>\n",
              "      <td>NaN</td>\n",
              "      <td>NaN</td>\n",
              "      <td>NaN</td>\n",
              "      <td>NaN</td>\n",
              "      <td>NaN</td>\n",
              "    </tr>\n",
              "    <tr>\n",
              "      <th>0</th>\n",
              "      <td>0</td>\n",
              "      <td>278024</td>\n",
              "      <td>21806</td>\n",
              "      <td>Region</td>\n",
              "      <td>1</td>\n",
              "      <td></td>\n",
              "      <td>0</td>\n",
              "      <td>0</td>\n",
              "      <td></td>\n",
              "      <td>0\\n</td>\n",
              "      <td>NaN</td>\n",
              "      <td>NaN</td>\n",
              "      <td>NaN</td>\n",
              "      <td>NaN</td>\n",
              "      <td>NaN</td>\n",
              "      <td>NaN</td>\n",
              "      <td>NaN</td>\n",
              "      <td>NaN</td>\n",
              "      <td>NaN</td>\n",
              "      <td>NaN</td>\n",
              "      <td>NaN</td>\n",
              "      <td>NaN</td>\n",
              "    </tr>\n",
              "  </tbody>\n",
              "</table>\n",
              "</div>"
            ],
            "text/plain": [
              "        0               1         2       3   ...   18   19   20   21\n",
              "0  App_oid  Collection_oid  Field_id    Name  ...  NaN  NaN  NaN  NaN\n",
              "0        0          278023     21803     OB_  ...  NaN  NaN  NaN  NaN\n",
              "0        0          278023     21804  Region  ...  NaN  NaN  NaN  NaN\n",
              "0        0          278024     21805     OB_  ...  NaN  NaN  NaN  NaN\n",
              "0        0          278024     21806  Region  ...  NaN  NaN  NaN  NaN\n",
              "\n",
              "[5 rows x 22 columns]"
            ]
          },
          "metadata": {
            "tags": []
          },
          "execution_count": 39
        }
      ]
    },
    {
      "cell_type": "code",
      "metadata": {
        "colab": {
          "base_uri": "https://localhost:8080/",
          "height": 198
        },
        "id": "uNlnBbr4PqPS",
        "outputId": "443dabeb-1f6a-4140-bf7a-2bf4ad623215"
      },
      "source": [
        "#set first row in the dataframe as header\n",
        "\n",
        "header = df_campos.iloc[0]\n",
        "\n",
        "df_campos = df_campos.iloc[1:]\n",
        "\n",
        "df_campos.columns = header\n",
        "\n",
        "df_campos.head()\n"
      ],
      "execution_count": 40,
      "outputs": [
        {
          "output_type": "execute_result",
          "data": {
            "text/html": [
              "<div>\n",
              "<style scoped>\n",
              "    .dataframe tbody tr th:only-of-type {\n",
              "        vertical-align: middle;\n",
              "    }\n",
              "\n",
              "    .dataframe tbody tr th {\n",
              "        vertical-align: top;\n",
              "    }\n",
              "\n",
              "    .dataframe thead th {\n",
              "        text-align: right;\n",
              "    }\n",
              "</style>\n",
              "<table border=\"1\" class=\"dataframe\">\n",
              "  <thead>\n",
              "    <tr style=\"text-align: right;\">\n",
              "      <th></th>\n",
              "      <th>App_oid</th>\n",
              "      <th>Collection_oid</th>\n",
              "      <th>Field_id</th>\n",
              "      <th>Name</th>\n",
              "      <th>Datatype_id</th>\n",
              "      <th>Description</th>\n",
              "      <th>Required</th>\n",
              "      <th>Calculated</th>\n",
              "      <th>Formula</th>\n",
              "      <th>Translatable\\n</th>\n",
              "      <th>NaN</th>\n",
              "      <th>NaN</th>\n",
              "      <th>NaN</th>\n",
              "      <th>NaN</th>\n",
              "      <th>NaN</th>\n",
              "      <th>NaN</th>\n",
              "      <th>NaN</th>\n",
              "      <th>NaN</th>\n",
              "      <th>NaN</th>\n",
              "      <th>NaN</th>\n",
              "      <th>NaN</th>\n",
              "      <th>NaN</th>\n",
              "    </tr>\n",
              "  </thead>\n",
              "  <tbody>\n",
              "    <tr>\n",
              "      <th>0</th>\n",
              "      <td>0</td>\n",
              "      <td>278023</td>\n",
              "      <td>21803</td>\n",
              "      <td>OB_</td>\n",
              "      <td>1</td>\n",
              "      <td></td>\n",
              "      <td>0</td>\n",
              "      <td>0</td>\n",
              "      <td></td>\n",
              "      <td>0\\n</td>\n",
              "      <td>NaN</td>\n",
              "      <td>NaN</td>\n",
              "      <td>NaN</td>\n",
              "      <td>NaN</td>\n",
              "      <td>NaN</td>\n",
              "      <td>NaN</td>\n",
              "      <td>NaN</td>\n",
              "      <td>NaN</td>\n",
              "      <td>NaN</td>\n",
              "      <td>NaN</td>\n",
              "      <td>NaN</td>\n",
              "      <td>NaN</td>\n",
              "    </tr>\n",
              "    <tr>\n",
              "      <th>0</th>\n",
              "      <td>0</td>\n",
              "      <td>278023</td>\n",
              "      <td>21804</td>\n",
              "      <td>Region</td>\n",
              "      <td>1</td>\n",
              "      <td></td>\n",
              "      <td>0</td>\n",
              "      <td>0</td>\n",
              "      <td></td>\n",
              "      <td>0\\n</td>\n",
              "      <td>NaN</td>\n",
              "      <td>NaN</td>\n",
              "      <td>NaN</td>\n",
              "      <td>NaN</td>\n",
              "      <td>NaN</td>\n",
              "      <td>NaN</td>\n",
              "      <td>NaN</td>\n",
              "      <td>NaN</td>\n",
              "      <td>NaN</td>\n",
              "      <td>NaN</td>\n",
              "      <td>NaN</td>\n",
              "      <td>NaN</td>\n",
              "    </tr>\n",
              "    <tr>\n",
              "      <th>0</th>\n",
              "      <td>0</td>\n",
              "      <td>278024</td>\n",
              "      <td>21805</td>\n",
              "      <td>OB_</td>\n",
              "      <td>1</td>\n",
              "      <td></td>\n",
              "      <td>0</td>\n",
              "      <td>0</td>\n",
              "      <td></td>\n",
              "      <td>0\\n</td>\n",
              "      <td>NaN</td>\n",
              "      <td>NaN</td>\n",
              "      <td>NaN</td>\n",
              "      <td>NaN</td>\n",
              "      <td>NaN</td>\n",
              "      <td>NaN</td>\n",
              "      <td>NaN</td>\n",
              "      <td>NaN</td>\n",
              "      <td>NaN</td>\n",
              "      <td>NaN</td>\n",
              "      <td>NaN</td>\n",
              "      <td>NaN</td>\n",
              "    </tr>\n",
              "    <tr>\n",
              "      <th>0</th>\n",
              "      <td>0</td>\n",
              "      <td>278024</td>\n",
              "      <td>21806</td>\n",
              "      <td>Region</td>\n",
              "      <td>1</td>\n",
              "      <td></td>\n",
              "      <td>0</td>\n",
              "      <td>0</td>\n",
              "      <td></td>\n",
              "      <td>0\\n</td>\n",
              "      <td>NaN</td>\n",
              "      <td>NaN</td>\n",
              "      <td>NaN</td>\n",
              "      <td>NaN</td>\n",
              "      <td>NaN</td>\n",
              "      <td>NaN</td>\n",
              "      <td>NaN</td>\n",
              "      <td>NaN</td>\n",
              "      <td>NaN</td>\n",
              "      <td>NaN</td>\n",
              "      <td>NaN</td>\n",
              "      <td>NaN</td>\n",
              "    </tr>\n",
              "    <tr>\n",
              "      <th>0</th>\n",
              "      <td>0</td>\n",
              "      <td>280650</td>\n",
              "      <td>22414</td>\n",
              "      <td>Localizador</td>\n",
              "      <td>1</td>\n",
              "      <td></td>\n",
              "      <td>0</td>\n",
              "      <td>0</td>\n",
              "      <td></td>\n",
              "      <td>0\\n</td>\n",
              "      <td>NaN</td>\n",
              "      <td>NaN</td>\n",
              "      <td>NaN</td>\n",
              "      <td>NaN</td>\n",
              "      <td>NaN</td>\n",
              "      <td>NaN</td>\n",
              "      <td>NaN</td>\n",
              "      <td>NaN</td>\n",
              "      <td>NaN</td>\n",
              "      <td>NaN</td>\n",
              "      <td>NaN</td>\n",
              "      <td>NaN</td>\n",
              "    </tr>\n",
              "  </tbody>\n",
              "</table>\n",
              "</div>"
            ],
            "text/plain": [
              "0 App_oid Collection_oid Field_id         Name  ...  NaN  NaN  NaN  NaN\n",
              "0       0         278023    21803          OB_  ...  NaN  NaN  NaN  NaN\n",
              "0       0         278023    21804       Region  ...  NaN  NaN  NaN  NaN\n",
              "0       0         278024    21805          OB_  ...  NaN  NaN  NaN  NaN\n",
              "0       0         278024    21806       Region  ...  NaN  NaN  NaN  NaN\n",
              "0       0         280650    22414  Localizador  ...  NaN  NaN  NaN  NaN\n",
              "\n",
              "[5 rows x 22 columns]"
            ]
          },
          "metadata": {
            "tags": []
          },
          "execution_count": 40
        }
      ]
    },
    {
      "cell_type": "code",
      "metadata": {
        "id": "e5a8aYUMP3cz"
      },
      "source": [
        "#we create a new df with the columns we need only\n",
        "needed_columns = ['App_oid', 'Collection_oid', 'Field_id','Name' ]"
      ],
      "execution_count": 41,
      "outputs": []
    },
    {
      "cell_type": "code",
      "metadata": {
        "id": "3_jUrhnPQFP4"
      },
      "source": [
        "df_campos_shorted = df_campos[needed_columns]"
      ],
      "execution_count": 42,
      "outputs": []
    },
    {
      "cell_type": "code",
      "metadata": {
        "colab": {
          "base_uri": "https://localhost:8080/",
          "height": 198
        },
        "id": "GsJSfHipQQY8",
        "outputId": "257b4725-5b84-4efd-8ed1-f0387e8b634c"
      },
      "source": [
        "df_campos_shorted.head()"
      ],
      "execution_count": 43,
      "outputs": [
        {
          "output_type": "execute_result",
          "data": {
            "text/html": [
              "<div>\n",
              "<style scoped>\n",
              "    .dataframe tbody tr th:only-of-type {\n",
              "        vertical-align: middle;\n",
              "    }\n",
              "\n",
              "    .dataframe tbody tr th {\n",
              "        vertical-align: top;\n",
              "    }\n",
              "\n",
              "    .dataframe thead th {\n",
              "        text-align: right;\n",
              "    }\n",
              "</style>\n",
              "<table border=\"1\" class=\"dataframe\">\n",
              "  <thead>\n",
              "    <tr style=\"text-align: right;\">\n",
              "      <th></th>\n",
              "      <th>App_oid</th>\n",
              "      <th>Collection_oid</th>\n",
              "      <th>Field_id</th>\n",
              "      <th>Name</th>\n",
              "    </tr>\n",
              "  </thead>\n",
              "  <tbody>\n",
              "    <tr>\n",
              "      <th>0</th>\n",
              "      <td>0</td>\n",
              "      <td>278023</td>\n",
              "      <td>21803</td>\n",
              "      <td>OB_</td>\n",
              "    </tr>\n",
              "    <tr>\n",
              "      <th>0</th>\n",
              "      <td>0</td>\n",
              "      <td>278023</td>\n",
              "      <td>21804</td>\n",
              "      <td>Region</td>\n",
              "    </tr>\n",
              "    <tr>\n",
              "      <th>0</th>\n",
              "      <td>0</td>\n",
              "      <td>278024</td>\n",
              "      <td>21805</td>\n",
              "      <td>OB_</td>\n",
              "    </tr>\n",
              "    <tr>\n",
              "      <th>0</th>\n",
              "      <td>0</td>\n",
              "      <td>278024</td>\n",
              "      <td>21806</td>\n",
              "      <td>Region</td>\n",
              "    </tr>\n",
              "    <tr>\n",
              "      <th>0</th>\n",
              "      <td>0</td>\n",
              "      <td>280650</td>\n",
              "      <td>22414</td>\n",
              "      <td>Localizador</td>\n",
              "    </tr>\n",
              "  </tbody>\n",
              "</table>\n",
              "</div>"
            ],
            "text/plain": [
              "0 App_oid Collection_oid Field_id         Name\n",
              "0       0         278023    21803          OB_\n",
              "0       0         278023    21804       Region\n",
              "0       0         278024    21805          OB_\n",
              "0       0         278024    21806       Region\n",
              "0       0         280650    22414  Localizador"
            ]
          },
          "metadata": {
            "tags": []
          },
          "execution_count": 43
        }
      ]
    },
    {
      "cell_type": "code",
      "metadata": {
        "colab": {
          "base_uri": "https://localhost:8080/"
        },
        "id": "bXwWiuNrQ9jH",
        "outputId": "d71a2ce3-9ec5-46c3-8fd9-242d96b91425"
      },
      "source": [
        "len(df_campos_shorted)"
      ],
      "execution_count": 49,
      "outputs": [
        {
          "output_type": "execute_result",
          "data": {
            "text/plain": [
              "4506"
            ]
          },
          "metadata": {
            "tags": []
          },
          "execution_count": 49
        }
      ]
    },
    {
      "cell_type": "code",
      "metadata": {
        "id": "DR4caIKXQ9li"
      },
      "source": [
        ""
      ],
      "execution_count": null,
      "outputs": []
    },
    {
      "cell_type": "code",
      "metadata": {
        "id": "7OZCe4I9Q9oQ"
      },
      "source": [
        ""
      ],
      "execution_count": null,
      "outputs": []
    }
  ]
}